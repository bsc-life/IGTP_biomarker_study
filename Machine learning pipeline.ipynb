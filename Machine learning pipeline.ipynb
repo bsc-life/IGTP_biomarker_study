{
 "cells": [
  {
   "cell_type": "code",
   "execution_count": 10,
   "metadata": {},
   "outputs": [],
   "source": [
    "# data processing and utils\n",
    "import pandas as pd\n",
    "import itertools\n",
    "from tqdm import tqdm\n",
    "import numpy as np\n",
    "from collections import Counter\n",
    "import re\n",
    "import csv\n",
    "from collections import defaultdict\n",
    "\n",
    "# math and ml\n",
    "from scipy.spatial import distance\n",
    "from sklearn.model_selection import train_test_split\n",
    "from imblearn.ensemble import BalancedRandomForestClassifier\n",
    "from sklearn.metrics import confusion_matrix, plot_confusion_matrix, accuracy_score, classification_report\n",
    "from sklearn.svm import LinearSVC\n",
    "from sklearn.feature_selection import SelectFromModel\n",
    "from sklearn.preprocessing import StandardScaler\n",
    "import scipy.stats as ss\n",
    "import math\n",
    "from sklearn.svm import SVC\n",
    "from sklearn.feature_selection import RFECV\n",
    "from sklearn.model_selection import StratifiedKFold\n",
    "from sklearn.model_selection import LeaveOneOut\n",
    "from sklearn.cluster import KMeans\n",
    "from sklearn.decomposition import PCA\n",
    "import math\n",
    "\n",
    "# visualization\n",
    "import seaborn as sns\n",
    "import matplotlib.pyplot as plt\n",
    "from sklearn.tree import export_graphviz\n",
    "import pydot"
   ]
  },
  {
   "cell_type": "code",
   "execution_count": 2,
   "metadata": {},
   "outputs": [],
   "source": [
    "def trimm_correlated(df_in, threshold):\n",
    "    df_corr = df_in.corr(method='spearman', min_periods=1)\n",
    "    df_not_correlated = ~(df_corr.mask(np.tril(np.ones([len(df_corr)]*2, dtype=bool))).abs() > threshold).any()\n",
    "    un_corr_idx = df_not_correlated.loc[df_not_correlated[df_not_correlated.index] == True].index\n",
    "    df_out = df_in[un_corr_idx]\n",
    "    return df_out"
   ]
  },
  {
   "cell_type": "code",
   "execution_count": 3,
   "metadata": {},
   "outputs": [
    {
     "name": "stdout",
     "output_type": "stream",
     "text": [
      "(25, 7)\n",
      "(10, 7)\n"
     ]
    }
   ],
   "source": [
    "# data loading\n",
    "\n",
    "#tag = 'AP_BX_1'\n",
    "#tag = 'AP_SR_1'\n",
    "#tag = 'AP_BX_1,2,3'\n",
    "#tag = 'AP_SR_1,2,3'\n",
    "#tag = 'EFS_BX_1'\n",
    "#tag = 'EFS_SR_1'\n",
    "#tag = 'EFS_BX_1,2,3'\n",
    "#tag = 'EFS_SR_1,2,3'\n",
    "tag = 'AP_BX_7'\n",
    "#tag = 'EFS_BX_7'\n",
    "\n",
    "train = pd.read_csv('input_ML/'+tag+'_train.tsv',sep='\\t',index_col=0)\n",
    "test = pd.read_csv('input_ML/'+tag+'_test.tsv',sep='\\t',index_col=0)\n",
    "print(train.shape)\n",
    "print(test.shape)\n",
    "\n",
    "if tag.startswith('AP_'):\n",
    "    y_train = train['Diagnosis_DEF_3cat'] \n",
    "    X_train = train.drop(['Diagnosis_DEF_3cat'], axis=1)\n",
    "    y_test = test['Diagnosis_DEF_3cat']\n",
    "    X_test = test.drop(['Diagnosis_DEF_3cat'], axis=1)\n",
    "\n",
    "if tag.startswith('EFS_'):\n",
    "    y_train = train['EFS'] \n",
    "    X_train = train.drop(['EFS'], axis=1)\n",
    "    y_test = test['EFS']\n",
    "    X_test = test.drop(['EFS'], axis=1)"
   ]
  },
  {
   "cell_type": "code",
   "execution_count": 4,
   "metadata": {},
   "outputs": [],
   "source": [
    "# save the most correlated variables\n",
    "X = pd.concat([X_train, X_test])\n",
    "y = pd.concat([y_train, y_test])\n",
    "\n",
    "sc = StandardScaler()\n",
    "scaler = StandardScaler()\n",
    "scaler.fit(X) \n",
    "X_scaled = scaler.transform(X) # scale the data\n",
    "X_scaled = pd.DataFrame(data=X_scaled, index=X.index, columns=X.columns)\n",
    "df_corr = X_scaled.corr(method='spearman', min_periods=1)\n",
    "\n",
    "lst = []\n",
    "for i in df_corr.index:\n",
    "    lst.append(df_corr[i][df_corr[i].abs()>0.8].index)\n",
    "\n",
    "with open('output_ML/'+tag+'_corrBiomarks.txt', \"w\") as f:\n",
    "    wr = csv.writer(f)\n",
    "    wr.writerows(lst)"
   ]
  },
  {
   "cell_type": "markdown",
   "metadata": {},
   "source": [
    "## 1. Feature selection with cross-validation"
   ]
  },
  {
   "cell_type": "code",
   "execution_count": 5,
   "metadata": {},
   "outputs": [
    {
     "name": "stderr",
     "output_type": "stream",
     "text": [
      "100%|██████████| 10/10 [00:02<00:00,  3.35it/s]\n"
     ]
    }
   ],
   "source": [
    "X = pd.concat([X_train, X_test])\n",
    "y = pd.concat([y_train, y_test])\n",
    "\n",
    "sc = StandardScaler()\n",
    "scaler = StandardScaler()\n",
    "scaler.fit(X) \n",
    "X_scaled = scaler.transform(X) # scale the data\n",
    "X_scaled = pd.DataFrame(data=X_scaled, index=X.index, columns=X.columns)\n",
    "X_scaled = trimm_correlated(X_scaled,0.8) # remove variables >0.8 correlation\n",
    "\n",
    "lst = []\n",
    "for c in tqdm([i/100 for i in range(11)][1:]):\n",
    "    svc = SVC(kernel=\"linear\", C=c, class_weight='balanced')\n",
    "    min_features_to_select = 5  # Minimum number of features to consider\n",
    "    rfecv = RFECV(\n",
    "        estimator=svc,\n",
    "        step=1,\n",
    "        cv=LeaveOneOut(),\n",
    "        scoring=\"accuracy\",\n",
    "        min_features_to_select=min_features_to_select,\n",
    "    )\n",
    "    rfecv.fit(X_scaled, y)\n",
    "    \n",
    "    for k,i in enumerate(range(min_features_to_select, len(rfecv.grid_scores_) + min_features_to_select)):\n",
    "        if rfecv.n_features_ == i:\n",
    "            lst.append([c,rfecv.n_features_,rfecv.grid_scores_[k]])\n",
    "\n",
    "res = pd.DataFrame.from_records(lst)\n",
    "res.columns = ['C','opt num of features','accuracy']"
   ]
  },
  {
   "cell_type": "code",
   "execution_count": 6,
   "metadata": {},
   "outputs": [
    {
     "name": "stdout",
     "output_type": "stream",
     "text": [
      "      C  opt num of features  accuracy\n",
      "0  0.01                    2  0.742857\n",
      "1  0.02                    4  0.742857\n",
      "2  0.03                    4  0.771429\n",
      "3  0.04                    3  0.742857\n",
      "4  0.05                    3  0.742857\n",
      "5  0.06                    2  0.742857\n",
      "6  0.07                    2  0.742857\n",
      "7  0.08                    2  0.742857\n",
      "8  0.09                    2  0.742857\n",
      "9  0.10                    2  0.742857\n",
      "\n",
      "\n",
      "best C: [0.03]\n"
     ]
    },
    {
     "data": {
      "image/png": "[encoded data removed]",
      "text/plain": [
       "<Figure size 432x288 with 1 Axes>"
      ]
     },
     "metadata": {},
     "output_type": "display_data"
    }
   ],
   "source": [
    "res.to_csv('output_ML/'+tag+'_CparamOpt.tsv',sep='\\t',index=None)\n",
    "print(res)\n",
    "print('\\n')\n",
    "\n",
    "best_c = res.sort_values(['accuracy','opt num of features'], ascending=[False, True]).head(1)['C'] # highest accuracy and lower num of features\n",
    "print('best C:',best_c.ravel())\n",
    "plt.scatter(res['opt num of features'],res['accuracy'])\n",
    "plt.xlabel('opt num of feature')\n",
    "plt.ylabel('accuracy')\n",
    "plt.savefig('output_ML/'+tag+'_CparamOpt.png', bbox_inches='tight')"
   ]
  },
  {
   "cell_type": "code",
   "execution_count": 7,
   "metadata": {},
   "outputs": [
    {
     "name": "stdout",
     "output_type": "stream",
     "text": [
      "Index(['DLK_5', 'DKK1', 'DLK_1', 'DLK'], dtype='object')\n"
     ]
    },
    {
     "data": {
      "image/png": "[encoded data removed]",
      "text/plain": [
       "<Figure size 1008x576 with 1 Axes>"
      ]
     },
     "metadata": {},
     "output_type": "display_data"
    }
   ],
   "source": [
    "c=best_c\n",
    "svc = SVC(kernel=\"linear\", C=c, class_weight='balanced')\n",
    "min_features_to_select = 5  # Minimum number of features to consider\n",
    "rfecv = RFECV(\n",
    "        estimator=svc,\n",
    "        step=1,\n",
    "        cv=LeaveOneOut(),\n",
    "        scoring=\"accuracy\",\n",
    "        min_features_to_select=min_features_to_select)\n",
    "rfecv.fit(X_scaled, y)\n",
    "\n",
    "plt.figure(figsize=(14,8))\n",
    "plt.xlabel(\"Number of features selected\", fontsize=15)\n",
    "plt.ylabel(\"Cross validation score (accuracy)\", fontsize=15)\n",
    "plt.plot(\n",
    "    range(min_features_to_select, len(rfecv.grid_scores_) + min_features_to_select),\n",
    "    rfecv.grid_scores_,\n",
    ")\n",
    "plt.savefig('output_ML/'+tag+'_RFECV.png', bbox_inches='tight')\n",
    "\n",
    "print(X_scaled.columns[rfecv.ranking_ == 1])\n",
    "textfile = open('output_ML/'+tag+'_RFECV_bestFeatures.txt', \"w\")\n",
    "for element in X_scaled.columns[rfecv.ranking_ == 1]:\n",
    "    textfile.write(element + \"\\n\")\n",
    "textfile.close()"
   ]
  },
  {
   "cell_type": "markdown",
   "metadata": {},
   "source": [
    "## 2. Supervised classification"
   ]
  },
  {
   "cell_type": "code",
   "execution_count": 8,
   "metadata": {},
   "outputs": [
    {
     "name": "stdout",
     "output_type": "stream",
     "text": [
      "Train accuracy: 0.68\n",
      "Test accuracy: 0.5\n"
     ]
    },
    {
     "name": "stderr",
     "output_type": "stream",
     "text": [
      "/home/dcirillo/.local/lib/python3.6/site-packages/sklearn/metrics/_classification.py:1248: UndefinedMetricWarning: Recall and F-score are ill-defined and being set to 0.0 in labels with no true samples. Use `zero_division` parameter to control this behavior.\n",
      "  _warn_prf(average, modifier, msg_start, len(result))\n",
      "/home/dcirillo/.local/lib/python3.6/site-packages/sklearn/metrics/_classification.py:1248: UndefinedMetricWarning: Recall and F-score are ill-defined and being set to 0.0 in labels with no true samples. Use `zero_division` parameter to control this behavior.\n",
      "  _warn_prf(average, modifier, msg_start, len(result))\n",
      "/home/dcirillo/.local/lib/python3.6/site-packages/sklearn/metrics/_classification.py:1248: UndefinedMetricWarning: Recall and F-score are ill-defined and being set to 0.0 in labels with no true samples. Use `zero_division` parameter to control this behavior.\n",
      "  _warn_prf(average, modifier, msg_start, len(result))\n"
     ]
    },
    {
     "data": {
      "image/png": "[encoded data removed]",
      "text/plain": [
       "<Figure size 864x360 with 3 Axes>"
      ]
     },
     "metadata": {},
     "output_type": "display_data"
    }
   ],
   "source": [
    "features = X_scaled.columns[rfecv.ranking_ == 1]\n",
    "\n",
    "classifier = BalancedRandomForestClassifier(max_depth=5, random_state=0, class_weight=\"balanced_subsample\")\n",
    "\n",
    "classifier.fit(X_train[features], y_train)\n",
    "y_pred = classifier.predict(X_train[features])\n",
    "print('Train accuracy: ' + str(accuracy_score(y_train, y_pred)))\n",
    "y_pred = classifier.predict(X_test[features])\n",
    "print('Test accuracy: ' + str(accuracy_score(y_test, y_pred)))\n",
    "\n",
    "\n",
    "report = classification_report(y_test, y_pred, output_dict=True)\n",
    "report_df = pd.DataFrame(report)\n",
    "report_df.to_csv('output_ML/'+tag+'_RF_report.tsv',sep='\\t') \n",
    "\n",
    "cm = confusion_matrix(y_test, y_pred)\n",
    "\n",
    "features = features\n",
    "importances = classifier.feature_importances_\n",
    "indices = np.argsort(importances)\n",
    "\n",
    "# plots\n",
    "\n",
    "fig, axes = plt.subplots(nrows=1, ncols=2, figsize=(12, 5))\n",
    "ax1 = plt.subplot(axes[0])\n",
    "plot_confusion_matrix(classifier, X_test[features], y_test, ax=ax1)\n",
    "ax1.grid(False)\n",
    "axes[1].barh(range(len(indices)), importances[indices], color='g', align='center')\n",
    "axes[1].set_yticks(range(len(indices)))\n",
    "axes[1].set_yticklabels([features[i] for i in indices])\n",
    "axes[1].set_xlabel('Relative Importance')\n",
    "if len(features)>=10:\n",
    "    axes[1].set_ylim([max(indices)-10, max(indices)])\n",
    "    axes[1].set_title('Feature Importances (top 10)')\n",
    "else:\n",
    "    axes[1].set_title('Feature Importances')\n",
    "fig.tight_layout()\n",
    "plt.savefig('output_ML/'+tag+'_RF.png', bbox_inches='tight')"
   ]
  },
  {
   "cell_type": "code",
   "execution_count": 9,
   "metadata": {},
   "outputs": [
    {
     "data": {
      "text/html": [
       "<div>\n",
       "<style scoped>\n",
       "    .dataframe tbody tr th:only-of-type {\n",
       "        vertical-align: middle;\n",
       "    }\n",
       "\n",
       "    .dataframe tbody tr th {\n",
       "        vertical-align: top;\n",
       "    }\n",
       "\n",
       "    .dataframe thead th {\n",
       "        text-align: right;\n",
       "    }\n",
       "</style>\n",
       "<table border=\"1\" class=\"dataframe\">\n",
       "  <thead>\n",
       "    <tr style=\"text-align: right;\">\n",
       "      <th></th>\n",
       "      <th>feature</th>\n",
       "      <th>RF_importance</th>\n",
       "    </tr>\n",
       "  </thead>\n",
       "  <tbody>\n",
       "    <tr>\n",
       "      <th>3</th>\n",
       "      <td>DLK</td>\n",
       "      <td>0.37500</td>\n",
       "    </tr>\n",
       "    <tr>\n",
       "      <th>0</th>\n",
       "      <td>DLK_1</td>\n",
       "      <td>0.31250</td>\n",
       "    </tr>\n",
       "    <tr>\n",
       "      <th>1</th>\n",
       "      <td>DKK1</td>\n",
       "      <td>0.26875</td>\n",
       "    </tr>\n",
       "    <tr>\n",
       "      <th>2</th>\n",
       "      <td>DLK_5</td>\n",
       "      <td>0.04375</td>\n",
       "    </tr>\n",
       "  </tbody>\n",
       "</table>\n",
       "</div>"
      ],
      "text/plain": [
       "  feature  RF_importance\n",
       "3     DLK        0.37500\n",
       "0   DLK_1        0.31250\n",
       "1    DKK1        0.26875\n",
       "2   DLK_5        0.04375"
      ]
     },
     "execution_count": 9,
     "metadata": {},
     "output_type": "execute_result"
    }
   ],
   "source": [
    "df_import = [[features[indices[i]],importances[i]] for i in range(len(indices))]\n",
    "df_import = pd.DataFrame.from_records(df_import)\n",
    "df_import.columns = ['feature','RF_importance']\n",
    "df_import = df_import.sort_values('RF_importance', ascending=False)\n",
    "df_import.to_csv('output_ML/'+tag+'_RF_importance.tsv',sep='\\t',index=False)\n",
    "df_import"
   ]
  }
 ],
 "metadata": {
  "kernelspec": {
   "display_name": "Python 3",
   "language": "python",
   "name": "python3"
  },
  "language_info": {
   "codemirror_mode": {
    "name": "ipython",
    "version": 3
   },
   "file_extension": ".py",
   "mimetype": "text/x-python",
   "name": "python",
   "nbconvert_exporter": "python",
   "pygments_lexer": "ipython3",
   "version": "3.6.9"
  }
 },
 "nbformat": 4,
 "nbformat_minor": 4
}
